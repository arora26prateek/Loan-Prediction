{
 "cells": [
  {
   "cell_type": "markdown",
   "metadata": {
    "id": "Z-jZGC0q0aiY"
   },
   "source": [
    "# K Nearest Neighbours (KNN)"
   ]
  },
  {
   "cell_type": "markdown",
   "metadata": {
    "id": "jE4Rc_OO0eJM"
   },
   "source": [
    "## Importing libraries"
   ]
  },
  {
   "cell_type": "code",
   "execution_count": 1,
   "metadata": {
    "executionInfo": {
     "elapsed": 951,
     "status": "ok",
     "timestamp": 1612339205430,
     "user": {
      "displayName": "Atulya Kaushik",
      "photoUrl": "https://lh3.googleusercontent.com/a-/AOh14Gg9EvS4XTNpgNgJfKuoTSnDOaK0VIJYd8VP4OmpTlpIuUIKLVlK51Vh6Kqn6RzlRqnJwPwhyNhEGZGbpQ0ORpLIpLodpx1_f10iKllK-IoyGjbVzv9unKJmrBEiRGS7K1LXDEve8rCJphUqsO3Dk3aP75IUnDG-voTcm11dcSRxzFyYahxihXlnQOR5yLAV-I_V3lN3MyL727elBp_CchKS0NATBFzcJNWVqHM9-5LQgiylSGBc9cbrODMO_D47oP0d_4PdwSDjG8h-OSkvbyD2MJz4mx702kv3rS_WhYGohopRzkfTX013A7c92TWpUZirJUJXu2DWlNqFPO_vNSbu4PlQoq1Mqb55x4FZFufPW_qtGD_YdCMVzam9T1ABBYcn0Bb6BWVtYbUFLXbTZzAtuOtrzXfRg0WHihovar--Ie5zshry2yJT2cCtwnK4Ob59XuEEX4sYUYbiH0HVVlYaWgWMTWNPWMkWlZL4vcvLYdIm5E3gOVFbf0Z-8Rtj46ti_7ET2CDCwF6LYA_zclgFvJg0DESPIggyR8qM3ajvZCZchesNhoqYFngW_Rh0kc6LnrlMNEHKvOSwfc_2yE7OPHdyvO5aqzyfxYufA9rw1enPmRmqmJrFk0en7U1Hb8bJ6QyXPChE4E0IjtfUWwk9ydFLKvD5NBJm6waiIkdbKkuhnWc33YX2WdCt-qLVLYyP2xAzRJ-5YgVaWOZvfdabpVpicwjMXyIBEF4kT_AKkKQUPWGT4UH0Mh0KiSJ4jHm61Q=s64",
      "userId": "16390917540151948122"
     },
     "user_tz": -330
    },
    "id": "jFDrqHSaW6iC"
   },
   "outputs": [],
   "source": [
    "import numpy as np\n",
    "import matplotlib.pyplot as plt\n",
    "import pandas as pd"
   ]
  },
  {
   "cell_type": "markdown",
   "metadata": {
    "id": "A9-xGHd20gY1"
   },
   "source": [
    "## Importing dataset"
   ]
  },
  {
   "cell_type": "code",
   "execution_count": 2,
   "metadata": {
    "executionInfo": {
     "elapsed": 1113,
     "status": "ok",
     "timestamp": 1612339210134,
     "user": {
      "displayName": "Atulya Kaushik",
      "photoUrl": "https://lh3.googleusercontent.com/a-/AOh14Gg9EvS4XTNpgNgJfKuoTSnDOaK0VIJYd8VP4OmpTlpIuUIKLVlK51Vh6Kqn6RzlRqnJwPwhyNhEGZGbpQ0ORpLIpLodpx1_f10iKllK-IoyGjbVzv9unKJmrBEiRGS7K1LXDEve8rCJphUqsO3Dk3aP75IUnDG-voTcm11dcSRxzFyYahxihXlnQOR5yLAV-I_V3lN3MyL727elBp_CchKS0NATBFzcJNWVqHM9-5LQgiylSGBc9cbrODMO_D47oP0d_4PdwSDjG8h-OSkvbyD2MJz4mx702kv3rS_WhYGohopRzkfTX013A7c92TWpUZirJUJXu2DWlNqFPO_vNSbu4PlQoq1Mqb55x4FZFufPW_qtGD_YdCMVzam9T1ABBYcn0Bb6BWVtYbUFLXbTZzAtuOtrzXfRg0WHihovar--Ie5zshry2yJT2cCtwnK4Ob59XuEEX4sYUYbiH0HVVlYaWgWMTWNPWMkWlZL4vcvLYdIm5E3gOVFbf0Z-8Rtj46ti_7ET2CDCwF6LYA_zclgFvJg0DESPIggyR8qM3ajvZCZchesNhoqYFngW_Rh0kc6LnrlMNEHKvOSwfc_2yE7OPHdyvO5aqzyfxYufA9rw1enPmRmqmJrFk0en7U1Hb8bJ6QyXPChE4E0IjtfUWwk9ydFLKvD5NBJm6waiIkdbKkuhnWc33YX2WdCt-qLVLYyP2xAzRJ-5YgVaWOZvfdabpVpicwjMXyIBEF4kT_AKkKQUPWGT4UH0Mh0KiSJ4jHm61Q=s64",
      "userId": "16390917540151948122"
     },
     "user_tz": -330
    },
    "id": "SVH6ZYD-W--s"
   },
   "outputs": [],
   "source": [
    "dataset = pd.read_excel('Book1knn.xlsx')\n",
    "X = dataset.iloc[:, :-1].values\n",
    "y = dataset.iloc[:, -1].values"
   ]
  },
  {
   "cell_type": "markdown",
   "metadata": {
    "id": "8REFJFGC0lRN"
   },
   "source": [
    "## Splitting the dataset into Training & Test set"
   ]
  },
  {
   "cell_type": "code",
   "execution_count": 3,
   "metadata": {
    "executionInfo": {
     "elapsed": 1208,
     "status": "ok",
     "timestamp": 1612339212783,
     "user": {
      "displayName": "Atulya Kaushik",
      "photoUrl": "https://lh3.googleusercontent.com/a-/AOh14Gg9EvS4XTNpgNgJfKuoTSnDOaK0VIJYd8VP4OmpTlpIuUIKLVlK51Vh6Kqn6RzlRqnJwPwhyNhEGZGbpQ0ORpLIpLodpx1_f10iKllK-IoyGjbVzv9unKJmrBEiRGS7K1LXDEve8rCJphUqsO3Dk3aP75IUnDG-voTcm11dcSRxzFyYahxihXlnQOR5yLAV-I_V3lN3MyL727elBp_CchKS0NATBFzcJNWVqHM9-5LQgiylSGBc9cbrODMO_D47oP0d_4PdwSDjG8h-OSkvbyD2MJz4mx702kv3rS_WhYGohopRzkfTX013A7c92TWpUZirJUJXu2DWlNqFPO_vNSbu4PlQoq1Mqb55x4FZFufPW_qtGD_YdCMVzam9T1ABBYcn0Bb6BWVtYbUFLXbTZzAtuOtrzXfRg0WHihovar--Ie5zshry2yJT2cCtwnK4Ob59XuEEX4sYUYbiH0HVVlYaWgWMTWNPWMkWlZL4vcvLYdIm5E3gOVFbf0Z-8Rtj46ti_7ET2CDCwF6LYA_zclgFvJg0DESPIggyR8qM3ajvZCZchesNhoqYFngW_Rh0kc6LnrlMNEHKvOSwfc_2yE7OPHdyvO5aqzyfxYufA9rw1enPmRmqmJrFk0en7U1Hb8bJ6QyXPChE4E0IjtfUWwk9ydFLKvD5NBJm6waiIkdbKkuhnWc33YX2WdCt-qLVLYyP2xAzRJ-5YgVaWOZvfdabpVpicwjMXyIBEF4kT_AKkKQUPWGT4UH0Mh0KiSJ4jHm61Q=s64",
      "userId": "16390917540151948122"
     },
     "user_tz": -330
    },
    "id": "-3caprD4XGwx"
   },
   "outputs": [],
   "source": [
    "from sklearn.model_selection import train_test_split\n",
    "X_train, X_test, y_train, y_test = train_test_split(X, y, test_size = 0.3, random_state = 21)"
   ]
  },
  {
   "cell_type": "markdown",
   "metadata": {
    "id": "-Dw4Khi70u9g"
   },
   "source": [
    "## Feature Scaling"
   ]
  },
  {
   "cell_type": "code",
   "execution_count": 4,
   "metadata": {
    "executionInfo": {
     "elapsed": 1165,
     "status": "ok",
     "timestamp": 1612339217021,
     "user": {
      "displayName": "Atulya Kaushik",
      "photoUrl": "https://lh3.googleusercontent.com/a-/AOh14Gg9EvS4XTNpgNgJfKuoTSnDOaK0VIJYd8VP4OmpTlpIuUIKLVlK51Vh6Kqn6RzlRqnJwPwhyNhEGZGbpQ0ORpLIpLodpx1_f10iKllK-IoyGjbVzv9unKJmrBEiRGS7K1LXDEve8rCJphUqsO3Dk3aP75IUnDG-voTcm11dcSRxzFyYahxihXlnQOR5yLAV-I_V3lN3MyL727elBp_CchKS0NATBFzcJNWVqHM9-5LQgiylSGBc9cbrODMO_D47oP0d_4PdwSDjG8h-OSkvbyD2MJz4mx702kv3rS_WhYGohopRzkfTX013A7c92TWpUZirJUJXu2DWlNqFPO_vNSbu4PlQoq1Mqb55x4FZFufPW_qtGD_YdCMVzam9T1ABBYcn0Bb6BWVtYbUFLXbTZzAtuOtrzXfRg0WHihovar--Ie5zshry2yJT2cCtwnK4Ob59XuEEX4sYUYbiH0HVVlYaWgWMTWNPWMkWlZL4vcvLYdIm5E3gOVFbf0Z-8Rtj46ti_7ET2CDCwF6LYA_zclgFvJg0DESPIggyR8qM3ajvZCZchesNhoqYFngW_Rh0kc6LnrlMNEHKvOSwfc_2yE7OPHdyvO5aqzyfxYufA9rw1enPmRmqmJrFk0en7U1Hb8bJ6QyXPChE4E0IjtfUWwk9ydFLKvD5NBJm6waiIkdbKkuhnWc33YX2WdCt-qLVLYyP2xAzRJ-5YgVaWOZvfdabpVpicwjMXyIBEF4kT_AKkKQUPWGT4UH0Mh0KiSJ4jHm61Q=s64",
      "userId": "16390917540151948122"
     },
     "user_tz": -330
    },
    "id": "dN5TSW7QXM_r"
   },
   "outputs": [],
   "source": [
    "from sklearn.preprocessing import StandardScaler\n",
    "sc = StandardScaler()\n",
    "X_train = sc.fit_transform(X_train)\n",
    "X_test = sc.transform(X_test)"
   ]
  },
  {
   "cell_type": "markdown",
   "metadata": {
    "id": "2QUFYaoH00H6"
   },
   "source": [
    "## KNN Training on Training set"
   ]
  },
  {
   "cell_type": "code",
   "execution_count": 5,
   "metadata": {
    "colab": {
     "base_uri": "https://localhost:8080/"
    },
    "executionInfo": {
     "elapsed": 1098,
     "status": "ok",
     "timestamp": 1612339389309,
     "user": {
      "displayName": "Atulya Kaushik",
      "photoUrl": "https://lh3.googleusercontent.com/a-/AOh14Gg9EvS4XTNpgNgJfKuoTSnDOaK0VIJYd8VP4OmpTlpIuUIKLVlK51Vh6Kqn6RzlRqnJwPwhyNhEGZGbpQ0ORpLIpLodpx1_f10iKllK-IoyGjbVzv9unKJmrBEiRGS7K1LXDEve8rCJphUqsO3Dk3aP75IUnDG-voTcm11dcSRxzFyYahxihXlnQOR5yLAV-I_V3lN3MyL727elBp_CchKS0NATBFzcJNWVqHM9-5LQgiylSGBc9cbrODMO_D47oP0d_4PdwSDjG8h-OSkvbyD2MJz4mx702kv3rS_WhYGohopRzkfTX013A7c92TWpUZirJUJXu2DWlNqFPO_vNSbu4PlQoq1Mqb55x4FZFufPW_qtGD_YdCMVzam9T1ABBYcn0Bb6BWVtYbUFLXbTZzAtuOtrzXfRg0WHihovar--Ie5zshry2yJT2cCtwnK4Ob59XuEEX4sYUYbiH0HVVlYaWgWMTWNPWMkWlZL4vcvLYdIm5E3gOVFbf0Z-8Rtj46ti_7ET2CDCwF6LYA_zclgFvJg0DESPIggyR8qM3ajvZCZchesNhoqYFngW_Rh0kc6LnrlMNEHKvOSwfc_2yE7OPHdyvO5aqzyfxYufA9rw1enPmRmqmJrFk0en7U1Hb8bJ6QyXPChE4E0IjtfUWwk9ydFLKvD5NBJm6waiIkdbKkuhnWc33YX2WdCt-qLVLYyP2xAzRJ-5YgVaWOZvfdabpVpicwjMXyIBEF4kT_AKkKQUPWGT4UH0Mh0KiSJ4jHm61Q=s64",
      "userId": "16390917540151948122"
     },
     "user_tz": -330
    },
    "id": "S21qjbYyXSHJ",
    "outputId": "8a50f8e8-eeb9-43b4-b5ce-d4848f03d2c3"
   },
   "outputs": [
    {
     "data": {
      "text/plain": [
       "KNeighborsClassifier()"
      ]
     },
     "execution_count": 5,
     "metadata": {},
     "output_type": "execute_result"
    }
   ],
   "source": [
    "from sklearn.neighbors import KNeighborsClassifier\n",
    "classifier = KNeighborsClassifier(n_neighbors=5, metric = 'minkowski', p = 2)\n",
    "classifier.fit(X_train, y_train)"
   ]
  },
  {
   "cell_type": "markdown",
   "metadata": {
    "id": "iXT0yCoI07X8"
   },
   "source": [
    "## Predicting"
   ]
  },
  {
   "cell_type": "code",
   "execution_count": 6,
   "metadata": {
    "colab": {
     "base_uri": "https://localhost:8080/"
    },
    "executionInfo": {
     "elapsed": 1005,
     "status": "ok",
     "timestamp": 1612339481269,
     "user": {
      "displayName": "Atulya Kaushik",
      "photoUrl": "https://lh3.googleusercontent.com/a-/AOh14Gg9EvS4XTNpgNgJfKuoTSnDOaK0VIJYd8VP4OmpTlpIuUIKLVlK51Vh6Kqn6RzlRqnJwPwhyNhEGZGbpQ0ORpLIpLodpx1_f10iKllK-IoyGjbVzv9unKJmrBEiRGS7K1LXDEve8rCJphUqsO3Dk3aP75IUnDG-voTcm11dcSRxzFyYahxihXlnQOR5yLAV-I_V3lN3MyL727elBp_CchKS0NATBFzcJNWVqHM9-5LQgiylSGBc9cbrODMO_D47oP0d_4PdwSDjG8h-OSkvbyD2MJz4mx702kv3rS_WhYGohopRzkfTX013A7c92TWpUZirJUJXu2DWlNqFPO_vNSbu4PlQoq1Mqb55x4FZFufPW_qtGD_YdCMVzam9T1ABBYcn0Bb6BWVtYbUFLXbTZzAtuOtrzXfRg0WHihovar--Ie5zshry2yJT2cCtwnK4Ob59XuEEX4sYUYbiH0HVVlYaWgWMTWNPWMkWlZL4vcvLYdIm5E3gOVFbf0Z-8Rtj46ti_7ET2CDCwF6LYA_zclgFvJg0DESPIggyR8qM3ajvZCZchesNhoqYFngW_Rh0kc6LnrlMNEHKvOSwfc_2yE7OPHdyvO5aqzyfxYufA9rw1enPmRmqmJrFk0en7U1Hb8bJ6QyXPChE4E0IjtfUWwk9ydFLKvD5NBJm6waiIkdbKkuhnWc33YX2WdCt-qLVLYyP2xAzRJ-5YgVaWOZvfdabpVpicwjMXyIBEF4kT_AKkKQUPWGT4UH0Mh0KiSJ4jHm61Q=s64",
      "userId": "16390917540151948122"
     },
     "user_tz": -330
    },
    "id": "HChOsSTO5H2j",
    "outputId": "6ddf29bf-c660-40e9-b70b-847d6d821ff7"
   },
   "outputs": [
    {
     "name": "stdout",
     "output_type": "stream",
     "text": [
      "[0]\n"
     ]
    }
   ],
   "source": [
    "print(classifier.predict(sc.transform([[3, 730]])))"
   ]
  },
  {
   "cell_type": "markdown",
   "metadata": {
    "id": "9oG_iJfc1A0K"
   },
   "source": [
    "## Predicting Test set results"
   ]
  },
  {
   "cell_type": "code",
   "execution_count": 7,
   "metadata": {
    "colab": {
     "base_uri": "https://localhost:8080/"
    },
    "executionInfo": {
     "elapsed": 940,
     "status": "ok",
     "timestamp": 1612339529807,
     "user": {
      "displayName": "Atulya Kaushik",
      "photoUrl": "https://lh3.googleusercontent.com/a-/AOh14Gg9EvS4XTNpgNgJfKuoTSnDOaK0VIJYd8VP4OmpTlpIuUIKLVlK51Vh6Kqn6RzlRqnJwPwhyNhEGZGbpQ0ORpLIpLodpx1_f10iKllK-IoyGjbVzv9unKJmrBEiRGS7K1LXDEve8rCJphUqsO3Dk3aP75IUnDG-voTcm11dcSRxzFyYahxihXlnQOR5yLAV-I_V3lN3MyL727elBp_CchKS0NATBFzcJNWVqHM9-5LQgiylSGBc9cbrODMO_D47oP0d_4PdwSDjG8h-OSkvbyD2MJz4mx702kv3rS_WhYGohopRzkfTX013A7c92TWpUZirJUJXu2DWlNqFPO_vNSbu4PlQoq1Mqb55x4FZFufPW_qtGD_YdCMVzam9T1ABBYcn0Bb6BWVtYbUFLXbTZzAtuOtrzXfRg0WHihovar--Ie5zshry2yJT2cCtwnK4Ob59XuEEX4sYUYbiH0HVVlYaWgWMTWNPWMkWlZL4vcvLYdIm5E3gOVFbf0Z-8Rtj46ti_7ET2CDCwF6LYA_zclgFvJg0DESPIggyR8qM3ajvZCZchesNhoqYFngW_Rh0kc6LnrlMNEHKvOSwfc_2yE7OPHdyvO5aqzyfxYufA9rw1enPmRmqmJrFk0en7U1Hb8bJ6QyXPChE4E0IjtfUWwk9ydFLKvD5NBJm6waiIkdbKkuhnWc33YX2WdCt-qLVLYyP2xAzRJ-5YgVaWOZvfdabpVpicwjMXyIBEF4kT_AKkKQUPWGT4UH0Mh0KiSJ4jHm61Q=s64",
      "userId": "16390917540151948122"
     },
     "user_tz": -330
    },
    "id": "LXCfGPU85GSt",
    "outputId": "12490680-5c8a-4df8-92cf-f7145c6f2ff7"
   },
   "outputs": [
    {
     "name": "stdout",
     "output_type": "stream",
     "text": [
      "[[1 1]\n",
      " [1 1]\n",
      " [0 0]\n",
      " [1 1]\n",
      " [1 1]\n",
      " [0 0]\n",
      " [0 0]\n",
      " [1 1]\n",
      " [1 1]\n",
      " [0 0]\n",
      " [1 1]\n",
      " [0 0]\n",
      " [1 1]\n",
      " [0 0]\n",
      " [1 0]\n",
      " [0 0]\n",
      " [1 1]\n",
      " [0 0]\n",
      " [0 0]\n",
      " [0 0]\n",
      " [1 0]\n",
      " [0 0]\n",
      " [1 1]\n",
      " [0 0]\n",
      " [0 0]\n",
      " [0 1]\n",
      " [0 0]\n",
      " [1 1]\n",
      " [0 0]\n",
      " [1 1]\n",
      " [0 0]\n",
      " [0 0]\n",
      " [1 1]\n",
      " [1 1]\n",
      " [0 0]\n",
      " [0 0]\n",
      " [1 1]\n",
      " [1 1]\n",
      " [0 0]\n",
      " [0 0]\n",
      " [0 0]\n",
      " [1 1]\n",
      " [1 1]\n",
      " [0 0]\n",
      " [0 0]\n",
      " [0 0]\n",
      " [1 1]\n",
      " [0 0]\n",
      " [0 0]\n",
      " [1 1]\n",
      " [1 1]\n",
      " [0 0]\n",
      " [0 0]\n",
      " [0 0]\n",
      " [0 0]\n",
      " [1 1]\n",
      " [0 0]\n",
      " [1 1]\n",
      " [0 0]\n",
      " [1 1]\n",
      " [1 1]\n",
      " [0 0]\n",
      " [1 1]\n",
      " [0 0]\n",
      " [1 0]\n",
      " [0 0]\n",
      " [0 0]\n",
      " [1 1]]\n"
     ]
    }
   ],
   "source": [
    "y_pred = classifier.predict(X_test)\n",
    "print(np.concatenate((y_pred.reshape(len(y_pred),1), y_test.reshape(len(y_test),1)),1))"
   ]
  },
  {
   "cell_type": "markdown",
   "metadata": {
    "id": "p6I0bJj_1Fxl"
   },
   "source": [
    "## Confusion Matrix"
   ]
  },
  {
   "cell_type": "code",
   "execution_count": 8,
   "metadata": {
    "colab": {
     "base_uri": "https://localhost:8080/"
    },
    "executionInfo": {
     "elapsed": 981,
     "status": "ok",
     "timestamp": 1612339564803,
     "user": {
      "displayName": "Atulya Kaushik",
      "photoUrl": "https://lh3.googleusercontent.com/a-/AOh14Gg9EvS4XTNpgNgJfKuoTSnDOaK0VIJYd8VP4OmpTlpIuUIKLVlK51Vh6Kqn6RzlRqnJwPwhyNhEGZGbpQ0ORpLIpLodpx1_f10iKllK-IoyGjbVzv9unKJmrBEiRGS7K1LXDEve8rCJphUqsO3Dk3aP75IUnDG-voTcm11dcSRxzFyYahxihXlnQOR5yLAV-I_V3lN3MyL727elBp_CchKS0NATBFzcJNWVqHM9-5LQgiylSGBc9cbrODMO_D47oP0d_4PdwSDjG8h-OSkvbyD2MJz4mx702kv3rS_WhYGohopRzkfTX013A7c92TWpUZirJUJXu2DWlNqFPO_vNSbu4PlQoq1Mqb55x4FZFufPW_qtGD_YdCMVzam9T1ABBYcn0Bb6BWVtYbUFLXbTZzAtuOtrzXfRg0WHihovar--Ie5zshry2yJT2cCtwnK4Ob59XuEEX4sYUYbiH0HVVlYaWgWMTWNPWMkWlZL4vcvLYdIm5E3gOVFbf0Z-8Rtj46ti_7ET2CDCwF6LYA_zclgFvJg0DESPIggyR8qM3ajvZCZchesNhoqYFngW_Rh0kc6LnrlMNEHKvOSwfc_2yE7OPHdyvO5aqzyfxYufA9rw1enPmRmqmJrFk0en7U1Hb8bJ6QyXPChE4E0IjtfUWwk9ydFLKvD5NBJm6waiIkdbKkuhnWc33YX2WdCt-qLVLYyP2xAzRJ-5YgVaWOZvfdabpVpicwjMXyIBEF4kT_AKkKQUPWGT4UH0Mh0KiSJ4jHm61Q=s64",
      "userId": "16390917540151948122"
     },
     "user_tz": -330
    },
    "id": "JDBy2qdw5KTV",
    "outputId": "6f76f688-28f1-46e8-a171-52d5f05bd75d"
   },
   "outputs": [
    {
     "name": "stdout",
     "output_type": "stream",
     "text": [
      "[[37  3]\n",
      " [ 1 27]]\n"
     ]
    },
    {
     "data": {
      "text/plain": [
       "0.9411764705882353"
      ]
     },
     "execution_count": 8,
     "metadata": {},
     "output_type": "execute_result"
    }
   ],
   "source": [
    "from sklearn.metrics import confusion_matrix, accuracy_score\n",
    "cm = confusion_matrix(y_test, y_pred)\n",
    "print(cm)\n",
    "accuracy_score(y_test, y_pred)"
   ]
  },
  {
   "cell_type": "markdown",
   "metadata": {
    "id": "SO86fovR1MKy"
   },
   "source": [
    "## Visualizing Test Set results"
   ]
  },
  {
   "cell_type": "code",
   "execution_count": 9,
   "metadata": {
    "colab": {
     "base_uri": "https://localhost:8080/",
     "height": 351
    },
    "executionInfo": {
     "elapsed": 1444,
     "status": "ok",
     "timestamp": 1612339594128,
     "user": {
      "displayName": "Atulya Kaushik",
      "photoUrl": "https://lh3.googleusercontent.com/a-/AOh14Gg9EvS4XTNpgNgJfKuoTSnDOaK0VIJYd8VP4OmpTlpIuUIKLVlK51Vh6Kqn6RzlRqnJwPwhyNhEGZGbpQ0ORpLIpLodpx1_f10iKllK-IoyGjbVzv9unKJmrBEiRGS7K1LXDEve8rCJphUqsO3Dk3aP75IUnDG-voTcm11dcSRxzFyYahxihXlnQOR5yLAV-I_V3lN3MyL727elBp_CchKS0NATBFzcJNWVqHM9-5LQgiylSGBc9cbrODMO_D47oP0d_4PdwSDjG8h-OSkvbyD2MJz4mx702kv3rS_WhYGohopRzkfTX013A7c92TWpUZirJUJXu2DWlNqFPO_vNSbu4PlQoq1Mqb55x4FZFufPW_qtGD_YdCMVzam9T1ABBYcn0Bb6BWVtYbUFLXbTZzAtuOtrzXfRg0WHihovar--Ie5zshry2yJT2cCtwnK4Ob59XuEEX4sYUYbiH0HVVlYaWgWMTWNPWMkWlZL4vcvLYdIm5E3gOVFbf0Z-8Rtj46ti_7ET2CDCwF6LYA_zclgFvJg0DESPIggyR8qM3ajvZCZchesNhoqYFngW_Rh0kc6LnrlMNEHKvOSwfc_2yE7OPHdyvO5aqzyfxYufA9rw1enPmRmqmJrFk0en7U1Hb8bJ6QyXPChE4E0IjtfUWwk9ydFLKvD5NBJm6waiIkdbKkuhnWc33YX2WdCt-qLVLYyP2xAzRJ-5YgVaWOZvfdabpVpicwjMXyIBEF4kT_AKkKQUPWGT4UH0Mh0KiSJ4jHm61Q=s64",
      "userId": "16390917540151948122"
     },
     "user_tz": -330
    },
    "id": "LDK-IBr7XyoD",
    "outputId": "a995a8f7-b118-431e-d4ae-a6b9a8ab98c3"
   },
   "outputs": [
    {
     "name": "stderr",
     "output_type": "stream",
     "text": [
      "*c* argument looks like a single numeric RGB or RGBA sequence, which should be avoided as value-mapping will have precedence in case its length matches with *x* & *y*.  Please use the *color* keyword-argument or provide a 2D array with a single row if you intend to specify the same RGB or RGBA value for all points.\n",
      "*c* argument looks like a single numeric RGB or RGBA sequence, which should be avoided as value-mapping will have precedence in case its length matches with *x* & *y*.  Please use the *color* keyword-argument or provide a 2D array with a single row if you intend to specify the same RGB or RGBA value for all points.\n"
     ]
    },
    {
     "data": {
      "image/png": "[encoded data removed]",
      "text/plain": [
       "<Figure size 432x288 with 1 Axes>"
      ]
     },
     "metadata": {
      "needs_background": "light"
     },
     "output_type": "display_data"
    }
   ],
   "source": [
    "from matplotlib.colors import ListedColormap\n",
    "X_set, y_set = sc.inverse_transform(X_test), y_test\n",
    "X1, X2 = np.meshgrid(np.arange(start = X_set[:, 0].min() - 0, stop = X_set[:, 0].max() + 3, step = 1),\n",
    "                     np.arange(start = X_set[:, 1].min() - 0, stop = X_set[:, 1].max() + 200, step = 1))\n",
    "plt.contourf(X1, X2, classifier.predict(sc.transform(np.array([X1.ravel(), X2.ravel()]).T)).reshape(X1.shape),\n",
    "             alpha = 0.75, cmap = ListedColormap(('red', 'green')))\n",
    "plt.xlim(X1.min(), X1.max())\n",
    "plt.ylim(X2.min(), X2.max())\n",
    "for i, j in enumerate(np.unique(y_set)):\n",
    "    plt.scatter(X_set[y_set == j, 0], X_set[y_set == j, 1], c = ListedColormap(('red', 'green'))(i), label = j)\n",
    "plt.title('KNN (Test set)')\n",
    "plt.xlabel('No of Existing Loans')\n",
    "plt.ylabel('Credit Score')\n",
    "plt.legend()\n",
    "plt.show()"
   ]
  },
  {
   "cell_type": "markdown",
   "metadata": {
    "id": "MokDuSCS1J0n"
   },
   "source": [
    "## Visualising Training set results"
   ]
  },
  {
   "cell_type": "code",
   "execution_count": 10,
   "metadata": {
    "colab": {
     "base_uri": "https://localhost:8080/",
     "height": 351
    },
    "executionInfo": {
     "elapsed": 1407,
     "status": "ok",
     "timestamp": 1612339668634,
     "user": {
      "displayName": "Atulya Kaushik",
      "photoUrl": "https://lh3.googleusercontent.com/a-/AOh14Gg9EvS4XTNpgNgJfKuoTSnDOaK0VIJYd8VP4OmpTlpIuUIKLVlK51Vh6Kqn6RzlRqnJwPwhyNhEGZGbpQ0ORpLIpLodpx1_f10iKllK-IoyGjbVzv9unKJmrBEiRGS7K1LXDEve8rCJphUqsO3Dk3aP75IUnDG-voTcm11dcSRxzFyYahxihXlnQOR5yLAV-I_V3lN3MyL727elBp_CchKS0NATBFzcJNWVqHM9-5LQgiylSGBc9cbrODMO_D47oP0d_4PdwSDjG8h-OSkvbyD2MJz4mx702kv3rS_WhYGohopRzkfTX013A7c92TWpUZirJUJXu2DWlNqFPO_vNSbu4PlQoq1Mqb55x4FZFufPW_qtGD_YdCMVzam9T1ABBYcn0Bb6BWVtYbUFLXbTZzAtuOtrzXfRg0WHihovar--Ie5zshry2yJT2cCtwnK4Ob59XuEEX4sYUYbiH0HVVlYaWgWMTWNPWMkWlZL4vcvLYdIm5E3gOVFbf0Z-8Rtj46ti_7ET2CDCwF6LYA_zclgFvJg0DESPIggyR8qM3ajvZCZchesNhoqYFngW_Rh0kc6LnrlMNEHKvOSwfc_2yE7OPHdyvO5aqzyfxYufA9rw1enPmRmqmJrFk0en7U1Hb8bJ6QyXPChE4E0IjtfUWwk9ydFLKvD5NBJm6waiIkdbKkuhnWc33YX2WdCt-qLVLYyP2xAzRJ-5YgVaWOZvfdabpVpicwjMXyIBEF4kT_AKkKQUPWGT4UH0Mh0KiSJ4jHm61Q=s64",
      "userId": "16390917540151948122"
     },
     "user_tz": -330
    },
    "id": "I7tP1VqCXzfC",
    "outputId": "fc6529fb-8553-49fd-ed89-f79867624903"
   },
   "outputs": [
    {
     "name": "stderr",
     "output_type": "stream",
     "text": [
      "*c* argument looks like a single numeric RGB or RGBA sequence, which should be avoided as value-mapping will have precedence in case its length matches with *x* & *y*.  Please use the *color* keyword-argument or provide a 2D array with a single row if you intend to specify the same RGB or RGBA value for all points.\n",
      "*c* argument looks like a single numeric RGB or RGBA sequence, which should be avoided as value-mapping will have precedence in case its length matches with *x* & *y*.  Please use the *color* keyword-argument or provide a 2D array with a single row if you intend to specify the same RGB or RGBA value for all points.\n"
     ]
    },
    {
     "data": {
      "image/png": "[encoded data removed]",
      "text/plain": [
       "<Figure size 432x288 with 1 Axes>"
      ]
     },
     "metadata": {
      "needs_background": "light"
     },
     "output_type": "display_data"
    }
   ],
   "source": [
    "from matplotlib.colors import ListedColormap\n",
    "X_set, y_set = sc.inverse_transform(X_train), y_train\n",
    "X1, X2 = np.meshgrid(np.arange(start = X_set[:, 0].min() - 0, stop = X_set[:, 0].max() + 3, step = 1),\n",
    "                     np.arange(start = X_set[:, 1].min() - 0, stop = X_set[:, 1].max() + 200, step = 1))\n",
    "plt.contourf(X1, X2, classifier.predict(sc.transform(np.array([X1.ravel(), X2.ravel()]).T)).reshape(X1.shape),\n",
    "             alpha = 0.75, cmap = ListedColormap(('red', 'green')))\n",
    "plt.xlim(X1.min(), X1.max())\n",
    "plt.ylim(X2.min(), X2.max())\n",
    "for i, j in enumerate(np.unique(y_set)):\n",
    "    plt.scatter(X_set[y_set == j, 0], X_set[y_set == j, 1], c = ListedColormap(('red', 'green'))(i), label = j)\n",
    "plt.title('KNN (Training set)')\n",
    "plt.xlabel('No of Existing Loans')\n",
    "plt.ylabel('Credit Score')\n",
    "plt.legend()\n",
    "plt.show()"
   ]
  },
  {
   "cell_type": "code",
   "execution_count": null,
   "metadata": {},
   "outputs": [],
   "source": []
  },
  {
   "cell_type": "code",
   "execution_count": null,
   "metadata": {},
   "outputs": [],
   "source": []
  }
 ],
 "metadata": {
  "colab": {
   "authorship_tag": "ABX9TyPAZpHC0AhqslE2FHSPioFQ",
   "name": "KNN Classification Working Copy.ipynb",
   "provenance": []
  },
  "kernelspec": {
   "display_name": "Python 3 (ipykernel)",
   "language": "python",
   "name": "python3"
  },
  "language_info": {
   "codemirror_mode": {
    "name": "ipython",
    "version": 3
   },
   "file_extension": ".py",
   "mimetype": "text/x-python",
   "name": "python",
   "nbconvert_exporter": "python",
   "pygments_lexer": "ipython3",
   "version": "3.10.6"
  }
 },
 "nbformat": 4,
 "nbformat_minor": 1
}
